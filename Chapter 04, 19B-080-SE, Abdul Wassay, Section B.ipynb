{
 "cells": [
  {
   "cell_type": "markdown",
   "metadata": {},
   "source": [
    "# Chapter 04 "
   ]
  },
  {
   "cell_type": "markdown",
   "metadata": {},
   "source": [
    "# 19B-080-SE, Abdul Wassay \n",
    "# Section B"
   ]
  },
  {
   "cell_type": "markdown",
   "metadata": {},
   "source": [
    "# Practice Problems"
   ]
  },
  {
   "cell_type": "markdown",
   "metadata": {},
   "source": [
    "# Q.4.1"
   ]
  },
  {
   "cell_type": "code",
   "execution_count": 5,
   "metadata": {},
   "outputs": [
    {
     "name": "stdout",
     "output_type": "stream",
     "text": [
      "234\n",
      "78\n",
      "1234567\n",
      "0123\n",
      "789\n"
     ]
    }
   ],
   "source": [
    "s='0123456789'\n",
    "#(a)\n",
    "print(s[2:5])\n",
    "\n",
    "#(b)\n",
    "print(s[7:9])\n",
    "\n",
    "#(c)\n",
    "print(s[1:8])\n",
    "\n",
    "#(d)\n",
    "print(s[0:4])\n",
    "\n",
    "#(e)\n",
    "print(s[7:])"
   ]
  },
  {
   "cell_type": "markdown",
   "metadata": {},
   "source": [
    "# Q.4.2"
   ]
  },
  {
   "cell_type": "code",
   "execution_count": 7,
   "metadata": {},
   "outputs": [
    {
     "name": "stdout",
     "output_type": "stream",
     "text": [
      "2\n",
      "13\n",
      "It will be a cloudy day today.\n"
     ]
    }
   ],
   "source": [
    "forecast='It will be a sunny day today.'\n",
    "#(a)\n",
    "count=forecast.count('day')\n",
    "print(count)\n",
    "\n",
    "#(b)\n",
    "weather=forecast.find('sunny')\n",
    "print(weather)\n",
    "\n",
    "#(c)\n",
    "change=forecast.replace('sunny','cloudy')\n",
    "print(change)"
   ]
  },
  {
   "cell_type": "markdown",
   "metadata": {},
   "source": [
    "# Q.4.3"
   ]
  },
  {
   "cell_type": "code",
   "execution_count": 1,
   "metadata": {},
   "outputs": [
    {
     "name": "stdout",
     "output_type": "stream",
     "text": [
      "Smith John Paul\n"
     ]
    }
   ],
   "source": [
    "last='Smith'\n",
    "first='John'\n",
    "middle='Paul'\n",
    "print(last,first,middle,sep=' ')"
   ]
  },
  {
   "cell_type": "markdown",
   "metadata": {},
   "source": [
    "# Q.4.4"
   ]
  },
  {
   "cell_type": "code",
   "execution_count": 10,
   "metadata": {},
   "outputs": [
    {
     "name": "stdout",
     "output_type": "stream",
     "text": [
      "Enter the end point: 16\n",
      "2 3 4 6 8 9 10 12 14 15 16 "
     ]
    }
   ],
   "source": [
    "def even(n):\n",
    "    for i in range(2,n+1):\n",
    "        if i%2==0 or i%3==0:\n",
    "            print(i,end=' ')\n",
    "            \n",
    "n=int(input('Enter the end point: '))\n",
    "even(n)"
   ]
  },
  {
   "cell_type": "markdown",
   "metadata": {},
   "source": [
    "# Q.4.5"
   ]
  },
  {
   "cell_type": "code",
   "execution_count": 15,
   "metadata": {},
   "outputs": [
    {
     "name": "stdout",
     "output_type": "stream",
     "text": [
      "John Doe\n",
      "123 Main Street\n",
      "Any City UK 09876\n"
     ]
    }
   ],
   "source": [
    "first='John'\n",
    "last='Doe'\n",
    "street='Main Street'\n",
    "number='123'\n",
    "city='Any City'\n",
    "state='UK'\n",
    "zipcode='09876'\n",
    "print('{}\\n{}\\n{}'.format(first+' '+last,number+' '+street,city+' '+state+' '+zipcode))"
   ]
  },
  {
   "cell_type": "markdown",
   "metadata": {},
   "source": [
    "# Q.4.6"
   ]
  },
  {
   "cell_type": "code",
   "execution_count": 6,
   "metadata": {},
   "outputs": [
    {
     "name": "stdout",
     "output_type": "stream",
     "text": [
      "Last      First      Class      Average Grade\n",
      "DeMoines  Jim       Sophomore     3.45\n",
      "Pierre    Sophie    Sophomore     4.00\n",
      "Columbus  Maria     Senior        2.50\n",
      "Phoenix   River     Junior        2.45\n",
      "Olympis   Edgar     Junior        3.99\n"
     ]
    }
   ],
   "source": [
    "def roster(students):\n",
    "    print('Last      First      Class      Average Grade')\n",
    "    for i in students:\n",
    "        print('{:10}{:10}{:10}{:8.2f}'.format(i[0],i[1],i[2],i[3]))\n",
    "        \n",
    "\n",
    "students = []\n",
    "students.append(['DeMoines', 'Jim', 'Sophomore', 3.45])\n",
    "students.append(['Pierre', 'Sophie', 'Sophomore', 4.0])\n",
    "students.append(['Columbus', 'Maria', 'Senior', 2.5])\n",
    "students.append(['Phoenix', 'River', 'Junior', 2.45])\n",
    "students.append(['Olympis', 'Edgar', 'Junior', 3.99])\n",
    "roster(students)"
   ]
  },
  {
   "cell_type": "markdown",
   "metadata": {},
   "source": [
    "# Q.4.7"
   ]
  },
  {
   "cell_type": "code",
   "execution_count": 21,
   "metadata": {},
   "outputs": [
    {
     "data": {
      "text/plain": [
       "'Friday, July 14 2017'"
      ]
     },
     "execution_count": 21,
     "metadata": {},
     "output_type": "execute_result"
    }
   ],
   "source": [
    "import time\n",
    "t= time.localtime(1500000000)\n",
    "#(a)\n",
    "time.strftime('%A, %B %d %Y',t)"
   ]
  },
  {
   "cell_type": "code",
   "execution_count": 22,
   "metadata": {},
   "outputs": [
    {
     "data": {
      "text/plain": [
       "'07:40 AM Pakistan Standard Time Central Daylight Time on 07/14/2017'"
      ]
     },
     "execution_count": 22,
     "metadata": {},
     "output_type": "execute_result"
    }
   ],
   "source": [
    "#(b)\n",
    "time.strftime('%I:%M %p %Z Central Daylight Time on %m/%d/%Y',t) "
   ]
  },
  {
   "cell_type": "code",
   "execution_count": 23,
   "metadata": {
    "scrolled": true
   },
   "outputs": [
    {
     "data": {
      "text/plain": [
       "'I will meet you on Fri July 14 at 07:40 AM.'"
      ]
     },
     "execution_count": 23,
     "metadata": {},
     "output_type": "execute_result"
    }
   ],
   "source": [
    "#(c)\n",
    "time.strftime('I will meet you on %a %B %d at %I:%M %p.', t)"
   ]
  },
  {
   "cell_type": "markdown",
   "metadata": {},
   "source": [
    "# Q.4.8"
   ]
  },
  {
   "cell_type": "code",
   "execution_count": 7,
   "metadata": {},
   "outputs": [
    {
     "data": {
      "text/plain": [
       "1"
      ]
     },
     "execution_count": 7,
     "metadata": {},
     "output_type": "execute_result"
    }
   ],
   "source": [
    "def stringCount(file,target):\n",
    "    infile=open(file)\n",
    "    content=infile.read()\n",
    "    infile.close()\n",
    "    return content.count(target)\n",
    "stringCount('example.txt','Wassay')"
   ]
  },
  {
   "cell_type": "markdown",
   "metadata": {},
   "source": [
    "# Q.4.9"
   ]
  },
  {
   "cell_type": "code",
   "execution_count": 74,
   "metadata": {},
   "outputs": [
    {
     "data": {
      "text/plain": [
       "['my',\n",
       " 'name',\n",
       " 'is',\n",
       " 'abdul',\n",
       " 'wassay',\n",
       " 'i',\n",
       " 'am',\n",
       " 'from',\n",
       " 'pakistan',\n",
       " 'i',\n",
       " 'am',\n",
       " 'student',\n",
       " 'of',\n",
       " 'software',\n",
       " 'engineering',\n",
       " 'at',\n",
       " 'uit',\n",
       " 'this',\n",
       " 'file',\n",
       " 'is',\n",
       " 'for',\n",
       " 'the',\n",
       " 'exercises',\n",
       " 'of',\n",
       " 'chapter',\n",
       " '04']"
      ]
     },
     "execution_count": 74,
     "metadata": {},
     "output_type": "execute_result"
    }
   ],
   "source": [
    "def words(filename):\n",
    "    'returns the list of words in file filename' \n",
    "    infile = open(filename, 'r') \n",
    "    content = infile.read() \n",
    "    infile.close() \n",
    "    table = str.maketrans('!,.:;?', 6*' ') \n",
    "    content=content.translate(table) \n",
    "    content=content.lower() \n",
    "    return content.split()\n",
    "words('example.txt')"
   ]
  },
  {
   "cell_type": "markdown",
   "metadata": {},
   "source": [
    "# Q.4.10"
   ]
  },
  {
   "cell_type": "code",
   "execution_count": 19,
   "metadata": {},
   "outputs": [
    {
     "name": "stdout",
     "output_type": "stream",
     "text": [
      "My name is Abdul Wassay. I am from Pakistan.\n"
     ]
    }
   ],
   "source": [
    "def myGrep(filename,target):\n",
    "    infile=open(filename)\n",
    "    for line in infile:\n",
    "        if target in line:\n",
    "            print(line,end=\"\")\n",
    "    return\n",
    "myGrep(\"example.txt\",\"Pakistan\")"
   ]
  },
  {
   "cell_type": "markdown",
   "metadata": {},
   "source": [
    "# Exercises:"
   ]
  },
  {
   "cell_type": "markdown",
   "metadata": {},
   "source": [
    "# Q.4.12"
   ]
  },
  {
   "cell_type": "code",
   "execution_count": 20,
   "metadata": {},
   "outputs": [
    {
     "name": "stdout",
     "output_type": "stream",
     "text": [
      "bcd\n",
      "abc\n",
      "defghijklmnopqrstuvwx\n",
      "wxy\n",
      "wxyz\n"
     ]
    }
   ],
   "source": [
    "s='abcdefghijklmnopqrstuvwxyz'\n",
    "print(s[1:4])\n",
    "print(s[0:3])\n",
    "print(s[3:24])\n",
    "print(s[22:25])\n",
    "print(s[22:])"
   ]
  },
  {
   "cell_type": "markdown",
   "metadata": {},
   "source": [
    "# Q.4.13"
   ]
  },
  {
   "cell_type": "code",
   "execution_count": 22,
   "metadata": {},
   "outputs": [
    {
     "name": "stdout",
     "output_type": "stream",
     "text": [
      "bc\n",
      "abcdefghijklmn\n",
      "opqrstuvwxyz\n",
      "bcdefghijklmnopqrstuvwxy\n"
     ]
    }
   ],
   "source": [
    "s='abcdefghijklmnopqrstuvwxyz'\n",
    "print(s[1:3])\n",
    "print(s[:14])\n",
    "print(s[14:])\n",
    "print(s[1:-1])"
   ]
  },
  {
   "cell_type": "markdown",
   "metadata": {},
   "source": [
    "# Q.4.14"
   ]
  },
  {
   "cell_type": "code",
   "execution_count": 27,
   "metadata": {},
   "outputs": [
    {
     "name": "stdout",
     "output_type": "stream",
     "text": [
      "128.0.0.1--[12/Feb/2011:10:31:08-0600]\"GET/docs/test.txt HTTP/1.0\"\n",
      "128.0.0.1--[12/Feb/2011:10:31:08-0600]\"GET/docs/test.txt\n",
      "12/Feb/2011:10:31:08-0600\n"
     ]
    }
   ],
   "source": [
    "log='128.0.0.1--[12/Feb/2011:10:31:08-0600]\"GET/docs/test.txt HTTP/1.0\"'\n",
    "address=log.split()[0]\n",
    "data=log[log.find(\"[\")+1:log.find(\"]\")]\n",
    "print(log)\n",
    "print(address)\n",
    "print(data)"
   ]
  },
  {
   "cell_type": "markdown",
   "metadata": {},
   "source": [
    "# Q.4.15"
   ]
  },
  {
   "cell_type": "code",
   "execution_count": 30,
   "metadata": {},
   "outputs": [
    {
     "name": "stdout",
     "output_type": "stream",
     "text": [
      "10 20 30 40 50 60 \n",
      "\n",
      "10-20-30-40-50-60-\n",
      "\n",
      "10&20&30&40&50&60&\n",
      "\n",
      "10,20,30,40,50,60,"
     ]
    }
   ],
   "source": [
    "s=['10','20','30','40','50','60']\n",
    "for i in s:\n",
    "    print(i,end=\" \")\n",
    "print(\"\\n\")\n",
    "for i in s:\n",
    "    print(i,end=\"-\")\n",
    "print(\"\\n\")  \n",
    "for i in s:\n",
    "    print(i,end=\"&\")\n",
    "print(\"\\n\")\n",
    "for i in s:\n",
    "    print(i,end=\",\")"
   ]
  },
  {
   "cell_type": "markdown",
   "metadata": {},
   "source": [
    "# Q.4.16"
   ]
  },
  {
   "cell_type": "code",
   "execution_count": 31,
   "metadata": {},
   "outputs": [
    {
     "name": "stdout",
     "output_type": "stream",
     "text": [
      "Enter a word: bass\n",
      "Enter a word: salman\n",
      "Enter a word: whitefish\n",
      "True\n"
     ]
    }
   ],
   "source": [
    "w1=input('Enter a word: ')\n",
    "w2=input('Enter a word: ')\n",
    "w3=input('Enter a word: ')\n",
    "print(w2>w1 and w2<w3)"
   ]
  },
  {
   "cell_type": "markdown",
   "metadata": {},
   "source": [
    "# Q.4.17"
   ]
  },
  {
   "cell_type": "code",
   "execution_count": 32,
   "metadata": {},
   "outputs": [
    {
     "name": "stdout",
     "output_type": "stream",
     "text": [
      "47\n",
      "2\n",
      "The xxxxx of this message is that it is xxxxx\n"
     ]
    }
   ],
   "source": [
    "message='The secret of this message is that it is secret'\n",
    "length=len(message)\n",
    "count=message.count('secret')\n",
    "censored=message.replace('secret','xxxxx')\n",
    "print(length)\n",
    "print(count)\n",
    "print(censored)"
   ]
  },
  {
   "cell_type": "markdown",
   "metadata": {},
   "source": [
    "# Q.4.18"
   ]
  },
  {
   "cell_type": "code",
   "execution_count": 53,
   "metadata": {},
   "outputs": [
    {
     "name": "stdout",
     "output_type": "stream",
     "text": [
      "it is the best of times  it is the worst of times  it  is the age of wisdom  it is the age of foolishness  it is the epoch of belief  it is the epoch of incredulity  it is       \n",
      "['it', 'is', 'the', 'best', 'of', 'times', 'it', 'is', 'the', 'worst', 'of', 'times', 'it', 'is', 'the', 'age', 'of', 'wisdom', 'it', 'is', 'the', 'age', 'of', 'foolishness', 'it', 'is', 'the', 'epoch', 'of', 'belief', 'it', 'is', 'the', 'epoch', 'of', 'incredulity', 'it', 'is']\n"
     ]
    }
   ],
   "source": [
    "s='''It was the best of times, it was the worst of times; it \n",
    "was the age of wisdom, it was the age of foolishness; it was the\n",
    "epoch of belief, it was the epoch of incredulity; it was ......'''\n",
    "#(a)\n",
    "table=str.maketrans(',.;\\n','    ')\n",
    "newS=s.translate(table)\n",
    "#(c)\n",
    "newS=newS.lower()\n",
    "#(d)\n",
    "news=newS.count('it was')\n",
    "#(e)\n",
    "newS=newS.replace('was','is')\n",
    "#(f)\n",
    "listS=newS.split()\n",
    "print(newS)\n",
    "print(listS)"
   ]
  },
  {
   "cell_type": "markdown",
   "metadata": {},
   "source": [
    "# Q.4.19"
   ]
  },
  {
   "cell_type": "code",
   "execution_count": 62,
   "metadata": {},
   "outputs": [
    {
     "name": "stdout",
     "output_type": "stream",
     "text": [
      "Sigel, Marlena Mae\n",
      "Sigel, Marlena M.\n",
      "Marlena M. Sigel\n",
      "M. M. Sigel\n",
      "Sigel, M.\n"
     ]
    }
   ],
   "source": [
    "first='Marlena'\n",
    "middle='Mae'\n",
    "last='Sigel'\n",
    "#(a)\n",
    "print('{}, {}'.format(last,first+' '+middle))\n",
    "#(b)\n",
    "print('{}, {} {}'.format(last,first,middle[:1]+'.'))\n",
    "#(c)\n",
    "print('{} {} {}'.format(first,middle[:1]+'.',last))\n",
    "#(d)\n",
    "print('{}. {}. {}'.format(first[:1],middle[:1],last))\n",
    "#(e)\n",
    "print('{}, {}.'.format(last,first[:1]))"
   ]
  },
  {
   "cell_type": "markdown",
   "metadata": {},
   "source": [
    "# Q.4.20"
   ]
  },
  {
   "cell_type": "code",
   "execution_count": 72,
   "metadata": {},
   "outputs": [
    {
     "name": "stdout",
     "output_type": "stream",
     "text": [
      "From: time@abc.com\n",
      "To: tom@xyz.com\n",
      "Subject: Hello!\n"
     ]
    }
   ],
   "source": [
    "sender='time@abc.com'\n",
    "recipient='tom@xyz.com'\n",
    "subject='Hello!'\n",
    "print('From: {}\\nTo: {}\\nSubject: {}'.format(sender,recipient,subject))"
   ]
  },
  {
   "cell_type": "markdown",
   "metadata": {},
   "source": [
    "# Q.4.21"
   ]
  },
  {
   "cell_type": "code",
   "execution_count": 73,
   "metadata": {},
   "outputs": [
    {
     "name": "stdout",
     "output_type": "stream",
     "text": [
      "pi=3.1,e=2.7\n",
      "pi=3.14,e=2.72\n",
      "pi=3.141593e+00,e=2.718282e+00\n",
      "pi=3.14159,e=2.71828\n"
     ]
    }
   ],
   "source": [
    "import math\n",
    "pi=math.pi\n",
    "e=math.e\n",
    "print(\"pi={0:2.1f},e={1:2.1f}\".format(pi,e))\n",
    "print(\"pi={0:2.2f},e={1:2.2f}\".format(pi,e))\n",
    "print(\"pi={0:e},e={1:e}\".format(pi,e))\n",
    "print(\"pi={0:2.5f},e={1:2.5f}\".format(pi,e))"
   ]
  },
  {
   "cell_type": "markdown",
   "metadata": {},
   "source": [
    "# Problems:"
   ]
  },
  {
   "cell_type": "markdown",
   "metadata": {},
   "source": [
    "# Q.4.22"
   ]
  },
  {
   "cell_type": "code",
   "execution_count": 81,
   "metadata": {},
   "outputs": [
    {
     "name": "stdout",
     "output_type": "stream",
     "text": [
      "Enter the number of Month: 4\n",
      "Apr\n"
     ]
    }
   ],
   "source": [
    "def month(m):\n",
    "    month={1:\"Jan\",2:\"Feb\",3:\"Mar\",4:\"Apr\",5:\"May\",6:\"Jun\",7:\"Jul\",8:\"Aug\",9:\"Sep\",10:\"Oct\",11:\"Nov\",12:\"Dec\"}\n",
    "    m=month[m]\n",
    "    print(m)\n",
    "\n",
    "mon=int(input('Enter the number of Month: '))\n",
    "month(mon)"
   ]
  },
  {
   "cell_type": "markdown",
   "metadata": {},
   "source": [
    "# Q.4.23"
   ]
  },
  {
   "cell_type": "code",
   "execution_count": null,
   "metadata": {},
   "outputs": [],
   "source": [
    "#def average():\n",
    "    #s=input('Enter a sentence: ')\n",
    "    #wordslist=s.split()\n",
    "    #for word in wordslist:\n",
    "     #   sumword=sum(len(word))"
   ]
  },
  {
   "cell_type": "markdown",
   "metadata": {},
   "source": [
    "# Q.4.24"
   ]
  },
  {
   "cell_type": "code",
   "execution_count": 99,
   "metadata": {},
   "outputs": [
    {
     "name": "stdout",
     "output_type": "stream",
     "text": [
      "Enter the name for cheers: Sanghrites\n",
      "How do you spell winner?\n",
      "I know, I know!\n",
      "S! A! N! G! H! R! I! T! E! S! And that's how you spell winner!\n",
      "Go! Sanghrites Go!\n"
     ]
    }
   ],
   "source": [
    "def cheer(name):\n",
    "    print('How do you spell winner?')\n",
    "    print('I know, I know!')\n",
    "    for char in name:\n",
    "        print(char.upper()+'!',end=' ')\n",
    "    print(\"And that's how you spell winner!\")\n",
    "    print('Go!',name.title(),'Go!')\n",
    "    \n",
    "name=input('Enter the name for cheers: ')\n",
    "cheer(name)"
   ]
  },
  {
   "cell_type": "markdown",
   "metadata": {},
   "source": [
    "# Q.4.25"
   ]
  },
  {
   "cell_type": "code",
   "execution_count": 98,
   "metadata": {},
   "outputs": [
    {
     "name": "stdout",
     "output_type": "stream",
     "text": [
      "a, e, i, o, u, appears 1, 1, 1, 1, 1 times\n"
     ]
    }
   ],
   "source": [
    "def countVowel(string):\n",
    "    for i in string:\n",
    "        if i in 'Aa':\n",
    "            countA=0\n",
    "            countA+=1\n",
    "        elif i in 'Ee':\n",
    "            countE=0\n",
    "            countE+=1\n",
    "        elif i in 'Ii':\n",
    "            countI=0\n",
    "            countI+=1\n",
    "        elif i in 'Oo':\n",
    "            countO=0\n",
    "            countO+=1\n",
    "        elif i in 'Uu':\n",
    "            countU=0\n",
    "            countU+=1\n",
    "    print('a, e, i, o, u, appears {}, {}, {}, {}, {} times'.format(countA,countE,countI,countO,countU))\n",
    "    \n",
    "countVowel('Quick brown fox jumps over the lazy dog')"
   ]
  },
  {
   "cell_type": "markdown",
   "metadata": {},
   "source": [
    "# Q.4.26"
   ]
  },
  {
   "cell_type": "code",
   "execution_count": 101,
   "metadata": {},
   "outputs": [
    {
     "name": "stdout",
     "output_type": "stream",
     "text": [
      "I will tell you my xxxxx. But first, I have to explain why it is a xxxxx.\n",
      "And thats all i will tell you about my xxxxx.\n"
     ]
    }
   ],
   "source": [
    "def crypto(filename):\n",
    "    infile=open(filename,'r')\n",
    "    content=infile.read()\n",
    "    infile.close()\n",
    "    crypted=content.replace('secret','xxxxx')\n",
    "    print(crypted)\n",
    "    \n",
    "crypto('crypto.txt')"
   ]
  },
  {
   "cell_type": "markdown",
   "metadata": {},
   "source": [
    "# Q.4.27"
   ]
  },
  {
   "cell_type": "code",
   "execution_count": null,
   "metadata": {},
   "outputs": [],
   "source": [
    "def fcopy(file1,file2):\n",
    "    infile=open(file1,'r')\n",
    "    content=infile.read()\n",
    "    infile.close\n",
    "    outfile=open(file2,'w')\n",
    "    outfile.write(content)\n",
    "    outfile.close"
   ]
  },
  {
   "cell_type": "markdown",
   "metadata": {},
   "source": [
    "# Q.4.28"
   ]
  },
  {
   "cell_type": "code",
   "execution_count": 103,
   "metadata": {},
   "outputs": [],
   "source": [
    "#def links(file):\n",
    "    #infile = open(file,\"r\")\n",
    "    #linelist=infile.readlines()\n",
    "    #infile.close()\n",
    "    #return len(linelist)"
   ]
  },
  {
   "cell_type": "markdown",
   "metadata": {},
   "source": [
    "# Q.4.29"
   ]
  },
  {
   "cell_type": "code",
   "execution_count": 104,
   "metadata": {},
   "outputs": [
    {
     "name": "stdout",
     "output_type": "stream",
     "text": [
      "Number of lines:  4\n",
      "Number of words:  26\n",
      "Number of characters 136\n"
     ]
    }
   ],
   "source": [
    "def stats(filename):\n",
    "    infile=open(filename,'r')\n",
    "    content=infile.read()\n",
    "    infile.close()\n",
    "    lines=content.split('\\n')\n",
    "    words=content.split()\n",
    "    print('Number of lines: ',len(lines))\n",
    "    print('Number of words: ',len(words))\n",
    "    print('Number of characters',len(content))\n",
    "    \n",
    "stats('example.txt')"
   ]
  },
  {
   "cell_type": "markdown",
   "metadata": {},
   "source": [
    "# Q.4.30"
   ]
  },
  {
   "cell_type": "code",
   "execution_count": 105,
   "metadata": {},
   "outputs": [
    {
     "name": "stdout",
     "output_type": "stream",
     "text": [
      "4 Students Got A\n",
      "4 Students Got A+\n",
      "3 Students Got B\n",
      "5 Students Got B-\n",
      "4 Students Got C\n",
      "2 Students Got C+\n"
     ]
    }
   ],
   "source": [
    "def distribution(filename):\n",
    "    infile=open(filename,\"r\")\n",
    "    content=infile.read()\n",
    "    grades=content.split()\n",
    "    dic={}\n",
    "    for grade in grades:\n",
    "        if grade in dic:\n",
    "            dic[grade]+=1\n",
    "        else:\n",
    "            dic[grade]=1\n",
    "    for grade in dic:\n",
    "        print(dic[grade],\"Students Got\",grade)\n",
    "        \n",
    "        \n",
    "distribution(\"grades.txt\")"
   ]
  },
  {
   "cell_type": "markdown",
   "metadata": {},
   "source": [
    "# Q.4.31"
   ]
  },
  {
   "cell_type": "code",
   "execution_count": null,
   "metadata": {},
   "outputs": [],
   "source": []
  },
  {
   "cell_type": "markdown",
   "metadata": {},
   "source": [
    "# Q.4.32"
   ]
  },
  {
   "cell_type": "code",
   "execution_count": 2,
   "metadata": {},
   "outputs": [],
   "source": [
    "def censor(filename):\n",
    "    infile = open(filename,'r')\n",
    "    outfile = open('censored.txt','w+')\n",
    "    for line in infile:\n",
    "        words=line.split()\n",
    "        for word in words:\n",
    "            if len(word)==4:\n",
    "                line=line.replace(word,'xxxx')\n",
    "        outfile.write(line)\n",
    "    outfile.close()\n",
    "    infile.close() \n",
    "\n",
    "censor('example.txt')"
   ]
  },
  {
   "cell_type": "markdown",
   "metadata": {},
   "source": [
    "#           The End    :-D"
   ]
  }
 ],
 "metadata": {
  "kernelspec": {
   "display_name": "Python 3",
   "language": "python",
   "name": "python3"
  },
  "language_info": {
   "codemirror_mode": {
    "name": "ipython",
    "version": 3
   },
   "file_extension": ".py",
   "mimetype": "text/x-python",
   "name": "python",
   "nbconvert_exporter": "python",
   "pygments_lexer": "ipython3",
   "version": "3.7.3"
  }
 },
 "nbformat": 4,
 "nbformat_minor": 2
}
